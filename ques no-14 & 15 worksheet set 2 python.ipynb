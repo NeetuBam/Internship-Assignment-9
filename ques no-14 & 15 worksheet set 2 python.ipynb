{
 "cells": [
  {
   "cell_type": "markdown",
   "id": "0a9a708f",
   "metadata": {},
   "source": [
    " Q14. Write a python program to solve a quadratic equation of the form ax^2+bx+c=0. Where a, b and c are to be taken by user input. Handle the erroneous input, such as ‘a’ should not be equal to 0. "
   ]
  },
  {
   "cell_type": "code",
   "execution_count": 1,
   "id": "28c7760f",
   "metadata": {},
   "outputs": [],
   "source": [
    "import math"
   ]
  },
  {
   "cell_type": "code",
   "execution_count": 2,
   "id": "876e3e8d",
   "metadata": {},
   "outputs": [
    {
     "name": "stdout",
     "output_type": "stream",
     "text": [
      "Enter the value of a: 1\n",
      "Enter the value of b: 2\n",
      "Enter the value of c: 3\n",
      "Roots are complex:\n",
      "x1 = -1.00 + 1.41j\n",
      "x2 = -1.00 - 1.41j\n"
     ]
    }
   ],
   "source": [
    "a = float(input(\"Enter the value of a: \"))\n",
    "b = float(input(\"Enter the value of b: \"))\n",
    "c = float(input(\"Enter the value of c: \"))\n",
    "\n",
    "if a == 0:\n",
    "    print(\"Error: 'a' should not be equal to 0\")\n",
    "else:\n",
    "    # Calculate the discriminant\n",
    "    discriminant = b**2 - 4*a*c\n",
    "    # Check if the roots are real or complex\n",
    "    if discriminant < 0:\n",
    "        real_part = -b / (2*a)\n",
    "        imag_part = math.sqrt(abs(discriminant)) / (2*a)\n",
    "        print(\"Roots are complex:\")\n",
    "        print(\"x1 = {:.2f} + {:.2f}j\".format(real_part, imag_part))\n",
    "        print(\"x2 = {:.2f} - {:.2f}j\".format(real_part, imag_part))\n",
    "    else:\n",
    "        # Calculate the two roots\n",
    "        x1 = (-b + math.sqrt(discriminant)) / (2*a)\n",
    "        x2 = (-b - math.sqrt(discriminant)) / (2*a)\n",
    "\n",
    "        print(\"Roots are real:\")\n",
    "        print(\"x1 = {:.2f}\".format(x1))\n",
    "        print(\"x2 = {:.2f}\".format(x2))\n"
   ]
  },
  {
   "cell_type": "code",
   "execution_count": null,
   "id": "be3211da",
   "metadata": {},
   "outputs": [],
   "source": []
  },
  {
   "cell_type": "markdown",
   "id": "9395aed7",
   "metadata": {},
   "source": [
    "Q15. Write a python program to find the sum of first ‘n’ natural numbers without using any loop. Ask users to input the value of ‘n’"
   ]
  },
  {
   "cell_type": "code",
   "execution_count": 4,
   "id": "e43a764e",
   "metadata": {},
   "outputs": [
    {
     "name": "stdout",
     "output_type": "stream",
     "text": [
      "Enter a value for n: 15\n",
      "The sum of first 15 natural numbers is 120\n"
     ]
    }
   ],
   "source": [
    "n = int(input(\"Enter a value for n: \"))\n",
    "sum_of_n = n*(n+1)//2\n",
    "print(\"The sum of first\", n, \"natural numbers is\", sum_of_n)\n"
   ]
  },
  {
   "cell_type": "code",
   "execution_count": null,
   "id": "1a0b6e92",
   "metadata": {},
   "outputs": [],
   "source": []
  }
 ],
 "metadata": {
  "kernelspec": {
   "display_name": "Python 3 (ipykernel)",
   "language": "python",
   "name": "python3"
  },
  "language_info": {
   "codemirror_mode": {
    "name": "ipython",
    "version": 3
   },
   "file_extension": ".py",
   "mimetype": "text/x-python",
   "name": "python",
   "nbconvert_exporter": "python",
   "pygments_lexer": "ipython3",
   "version": "3.9.12"
  }
 },
 "nbformat": 4,
 "nbformat_minor": 5
}
