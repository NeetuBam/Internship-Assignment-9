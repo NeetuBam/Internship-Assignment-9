{
 "cells": [
  {
   "cell_type": "markdown",
   "id": "ba47d5b0",
   "metadata": {},
   "source": [
    "11. Write a python program to find the factorial of a number."
   ]
  },
  {
   "cell_type": "code",
   "execution_count": 1,
   "id": "91067f4c",
   "metadata": {},
   "outputs": [
    {
     "name": "stdout",
     "output_type": "stream",
     "text": [
      "Enter a number to find its factorial: 2\n",
      "The factorial of 2 is 2\n"
     ]
    }
   ],
   "source": [
    "def factorial(n):\n",
    "    if n == 0:\n",
    "        return 1\n",
    "    else:\n",
    "        return n * factorial(n-1)\n",
    "\n",
    "num = int(input(\"Enter a number to find its factorial: \"))\n",
    "\n",
    "if num < 0:\n",
    "    print(\"Factorial is not defined for negative numbers.\")\n",
    "elif num == 0:\n",
    "    print(\"The factorial of 0 is 1.\")\n",
    "else:\n",
    "    print(\"The factorial of\", num, \"is\", factorial(num))\n"
   ]
  },
  {
   "cell_type": "code",
   "execution_count": null,
   "id": "824fa468",
   "metadata": {},
   "outputs": [],
   "source": []
  },
  {
   "cell_type": "markdown",
   "id": "e71851d1",
   "metadata": {},
   "source": [
    "12. Write a python program to find whether a number is prime or composite."
   ]
  },
  {
   "cell_type": "code",
   "execution_count": 4,
   "id": "1762b32a",
   "metadata": {},
   "outputs": [
    {
     "name": "stdout",
     "output_type": "stream",
     "text": [
      "Enter a number: 32\n",
      "32 is a composite number.\n"
     ]
    }
   ],
   "source": [
    "num = int(input(\"Enter a number: \"))\n",
    "\n",
    "if num < 2:\n",
    "    print(\"The number is neither prime nor composite.\")\n",
    "elif num == 2:\n",
    "    print(\"2 is a prime number.\")\n",
    "else:\n",
    "    is_prime = True\n",
    "    for i in range(2, int(num/2)+1):\n",
    "        if num % i == 0:\n",
    "            is_prime = False\n",
    "            break\n",
    "    if is_prime:\n",
    "        print(num, \"is a prime number.\")\n",
    "    else:\n",
    "        print(num, \"is a composite number.\")\n"
   ]
  },
  {
   "cell_type": "code",
   "execution_count": null,
   "id": "7740f0df",
   "metadata": {},
   "outputs": [],
   "source": []
  },
  {
   "cell_type": "markdown",
   "id": "8af504ee",
   "metadata": {},
   "source": [
    "13. Write a python program to check whether a given string is palindrome or not."
   ]
  },
  {
   "cell_type": "code",
   "execution_count": 6,
   "id": "2fe14088",
   "metadata": {},
   "outputs": [
    {
     "name": "stdout",
     "output_type": "stream",
     "text": [
      "Enter a string: Uttarakhand\n"
     ]
    }
   ],
   "source": [
    "def is_palindrome(s):\n",
    "    s = s.lower()  # convert all characters to lowercase\n",
    "    s = s.replace(' ', '')  # remove all spaces\n",
    "    return s == s[::-1]  # check if the string is equal to its reverse\n",
    "\n",
    "string = input(\"Enter a string: \")"
   ]
  },
  {
   "cell_type": "code",
   "execution_count": 7,
   "id": "44370697",
   "metadata": {},
   "outputs": [
    {
     "name": "stdout",
     "output_type": "stream",
     "text": [
      "Uttarakhand is not a palindrome.\n"
     ]
    }
   ],
   "source": [
    "if is_palindrome(string):\n",
    "    print(string, \"is a palindrome.\")\n",
    "else:\n",
    "    print(string, \"is not a palindrome.\")"
   ]
  },
  {
   "cell_type": "code",
   "execution_count": null,
   "id": "429994e0",
   "metadata": {},
   "outputs": [],
   "source": []
  },
  {
   "cell_type": "markdown",
   "id": "d76e2e54",
   "metadata": {},
   "source": [
    "14. Write a Python program to get the third side of right-angled triangle from two given sides."
   ]
  },
  {
   "cell_type": "code",
   "execution_count": 8,
   "id": "ae2c0f05",
   "metadata": {},
   "outputs": [],
   "source": [
    "import math"
   ]
  },
  {
   "cell_type": "code",
   "execution_count": 9,
   "id": "0b1b25e0",
   "metadata": {},
   "outputs": [
    {
     "name": "stdout",
     "output_type": "stream",
     "text": [
      "Enter the length of side a: 12\n",
      "Enter the length of side b: 7\n",
      "The length of the hypotenuse c is 13.892443989449804\n"
     ]
    }
   ],
   "source": [
    "a = float(input(\"Enter the length of side a: \"))\n",
    "b = float(input(\"Enter the length of side b: \"))\n",
    "\n",
    "c = math.sqrt(a**2 + b**2)\n",
    "\n",
    "print(\"The length of the hypotenuse c is\", c)"
   ]
  },
  {
   "cell_type": "code",
   "execution_count": null,
   "id": "735eab7a",
   "metadata": {},
   "outputs": [],
   "source": []
  },
  {
   "cell_type": "markdown",
   "id": "3feae6f9",
   "metadata": {},
   "source": [
    "15. Write a python program to print the frequency of each of the characters present in a given string."
   ]
  },
  {
   "cell_type": "code",
   "execution_count": 10,
   "id": "4ec39f08",
   "metadata": {},
   "outputs": [
    {
     "name": "stdout",
     "output_type": "stream",
     "text": [
      "Enter a string: Data\n"
     ]
    }
   ],
   "source": [
    "string = input(\"Enter a string: \")\n",
    "\n",
    "freq = {}  # create an empty dictionary to store the frequency of each character\n"
   ]
  },
  {
   "cell_type": "code",
   "execution_count": 11,
   "id": "de35e18b",
   "metadata": {},
   "outputs": [
    {
     "name": "stdout",
     "output_type": "stream",
     "text": [
      "Frequency of each character in the string:\n",
      "D : 1\n",
      "a : 2\n",
      "t : 1\n"
     ]
    }
   ],
   "source": [
    "for char in string:\n",
    "    if char in freq:\n",
    "        freq[char] += 1  # if the character is already in the dictionary, increment its frequency\n",
    "    else:\n",
    "        freq[char] = 1  # if the character is not in the dictionary, add it with a frequency of 1\n",
    "\n",
    "print(\"Frequency of each character in the string:\")\n",
    "for char, count in freq.items():\n",
    "    print(char, \":\", count)\n",
    "\n"
   ]
  },
  {
   "cell_type": "code",
   "execution_count": null,
   "id": "b46ec09a",
   "metadata": {},
   "outputs": [],
   "source": []
  }
 ],
 "metadata": {
  "kernelspec": {
   "display_name": "Python 3 (ipykernel)",
   "language": "python",
   "name": "python3"
  },
  "language_info": {
   "codemirror_mode": {
    "name": "ipython",
    "version": 3
   },
   "file_extension": ".py",
   "mimetype": "text/x-python",
   "name": "python",
   "nbconvert_exporter": "python",
   "pygments_lexer": "ipython3",
   "version": "3.9.12"
  }
 },
 "nbformat": 4,
 "nbformat_minor": 5
}
