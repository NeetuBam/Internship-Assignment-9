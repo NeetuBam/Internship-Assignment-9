{
 "cells": [
  {
   "cell_type": "markdown",
   "id": "e697ce76",
   "metadata": {},
   "source": [
    "\n",
    "Q11. Write a python function print pyramid of stars. Level of the pyramid should be taken as an input from the \n",
    "user. E.g. \n",
    "Input = 5 \n",
    "Output:\n"
   ]
  },
  {
   "cell_type": "code",
   "execution_count": 1,
   "id": "66763ccd",
   "metadata": {},
   "outputs": [
    {
     "name": "stdout",
     "output_type": "stream",
     "text": [
      "    *\n",
      "   ***\n",
      "  *****\n",
      " *******\n",
      "*********\n"
     ]
    }
   ],
   "source": [
    "def print_pyramid(levels):\n",
    "    for i in range(1, levels+1):\n",
    "        print(' '*(levels-i) + '*'*(2*i-1))\n",
    "        \n",
    "print_pyramid(5)\n"
   ]
  },
  {
   "cell_type": "code",
   "execution_count": null,
   "id": "d7fd3d8b",
   "metadata": {},
   "outputs": [],
   "source": []
  },
  {
   "cell_type": "markdown",
   "id": "1858c9a1",
   "metadata": {},
   "source": [
    "Q12. Write a python function print Hourglass pattern. \n",
    "E.g. \n",
    "Input = 5 \n",
    "Output: \n"
   ]
  },
  {
   "cell_type": "code",
   "execution_count": 2,
   "id": "d3d3daa8",
   "metadata": {},
   "outputs": [],
   "source": [
    "def print_hourglass(n):\n",
    "    for i in range(n, 0, -1):\n",
    "        for j in range(n-i):\n",
    "            print(\" \", end=\"\")\n",
    "        for j in range(2*i-1):\n",
    "            print(\"*\", end=\"\")\n",
    "        print()\n",
    "    for i in range(2, n+1):\n",
    "        for j in range(n-i):\n",
    "            print(\" \", end=\"\")\n",
    "        for j in range(2*i-1):\n",
    "            print(\"*\", end=\"\")\n",
    "        print()\n"
   ]
  },
  {
   "cell_type": "code",
   "execution_count": 3,
   "id": "3af88cd3",
   "metadata": {},
   "outputs": [
    {
     "name": "stdout",
     "output_type": "stream",
     "text": [
      "*********\n",
      " *******\n",
      "  *****\n",
      "   ***\n",
      "    *\n",
      "   ***\n",
      "  *****\n",
      " *******\n",
      "*********\n"
     ]
    }
   ],
   "source": [
    "print_hourglass(5)\n"
   ]
  },
  {
   "cell_type": "code",
   "execution_count": null,
   "id": "170bc98d",
   "metadata": {},
   "outputs": [],
   "source": []
  },
  {
   "cell_type": "markdown",
   "id": "ee6a3a7e",
   "metadata": {},
   "source": [
    "Q13. Write a python function to print Pascal’s Triangle. The number of levels in the triangle must be taken as input \n",
    "by the user. E.g. \n",
    "Input = 5 \n",
    "Output: \n"
   ]
  },
  {
   "cell_type": "code",
   "execution_count": 4,
   "id": "80a0aa84",
   "metadata": {},
   "outputs": [],
   "source": [
    "def pascals_triangle(levels):\n",
    "    triangle = [[1]]\n",
    "    for i in range(1, levels):\n",
    "        prev_row = triangle[-1]\n",
    "        cur_row = [1]\n",
    "        for j in range(1, i):\n",
    "            cur_row.append(prev_row[j-1] + prev_row[j])\n",
    "        cur_row.append(1)\n",
    "        triangle.append(cur_row)\n",
    "    max_val = triangle[-1][-1]\n",
    "    num_digits = len(str(max_val))\n",
    "    for row in triangle:\n",
    "        print(' '.join(str(val).rjust(num_digits) for val in row))\n"
   ]
  },
  {
   "cell_type": "code",
   "execution_count": 6,
   "id": "bbcdf035",
   "metadata": {},
   "outputs": [
    {
     "name": "stdout",
     "output_type": "stream",
     "text": [
      "1\n",
      "1 1\n",
      "1 2 1\n",
      "1 3 3 1\n",
      "1 4 6 4 1\n"
     ]
    }
   ],
   "source": [
    " pascals_triangle(5)\n",
    "    "
   ]
  },
  {
   "cell_type": "code",
   "execution_count": null,
   "id": "a542eade",
   "metadata": {},
   "outputs": [],
   "source": []
  },
  {
   "cell_type": "markdown",
   "id": "9a08bdcd",
   "metadata": {},
   "source": [
    "Q14. Write a python function to print Diamond Shaped Pattern shown below. Function must take integer input \n",
    "which represents the number of stars in the middle most line. E.g.: \n",
    "Input = 5 \n",
    "Output: \n"
   ]
  },
  {
   "cell_type": "code",
   "execution_count": 9,
   "id": "8752e253",
   "metadata": {},
   "outputs": [
    {
     "name": "stdout",
     "output_type": "stream",
     "text": [
      "    * \n",
      "   * * \n",
      "  * * * \n",
      " * * * * \n",
      "* * * * * \n",
      "* * * * \n",
      " * * * \n",
      "  * * \n",
      "   * \n",
      "* * * * * \n"
     ]
    }
   ],
   "source": [
    "def diamond_pattern(n):\n",
    "    # upper triangle\n",
    "    for i in range(n):\n",
    "        print(' ' * (n - i - 1) + '* ' * (i + 1))\n",
    "\n",
    "    # lower triangle\n",
    "    for i in range(n - 1, 0, -1):\n",
    "        print(' ' * (n - i - 1) + '* ' * (i))\n",
    "\n",
    "    # center line\n",
    "    print('* ' * n)\n",
    "\n",
    "# Testing the function with input = 5\n",
    "diamond_pattern(5)\n"
   ]
  },
  {
   "cell_type": "code",
   "execution_count": null,
   "id": "872fd38a",
   "metadata": {},
   "outputs": [],
   "source": []
  },
  {
   "cell_type": "markdown",
   "id": "2bfa8df8",
   "metadata": {},
   "source": [
    "Q15. Write a python function to print Diamond Shaped Character Pattern shown below. Function must take integer input within range 1 to 26, which represents the rank of the alphabet. E.g.:\n",
    "Input = 5 \n",
    "Output\n"
   ]
  },
  {
   "cell_type": "code",
   "execution_count": 10,
   "id": "512490cc",
   "metadata": {},
   "outputs": [
    {
     "name": "stdout",
     "output_type": "stream",
     "text": [
      "    *\n",
      "   ***\n",
      "  *****\n",
      " *******\n",
      "*********\n",
      " *******\n",
      "  *****\n",
      "   ***\n",
      "    *\n"
     ]
    }
   ],
   "source": [
    "def diamond_pattern(n):\n",
    "    for i in range(n):\n",
    "        print(' '*(n-i-1) + '*'*(2*i+1))\n",
    "    for i in range(n-2, -1, -1):\n",
    "        print(' '*(n-i-1) + '*'*(2*i+1))\n",
    "\n",
    "diamond_pattern(5)\n"
   ]
  },
  {
   "cell_type": "code",
   "execution_count": null,
   "id": "c88f416d",
   "metadata": {},
   "outputs": [],
   "source": []
  }
 ],
 "metadata": {
  "kernelspec": {
   "display_name": "Python 3 (ipykernel)",
   "language": "python",
   "name": "python3"
  },
  "language_info": {
   "codemirror_mode": {
    "name": "ipython",
    "version": 3
   },
   "file_extension": ".py",
   "mimetype": "text/x-python",
   "name": "python",
   "nbconvert_exporter": "python",
   "pygments_lexer": "ipython3",
   "version": "3.9.12"
  }
 },
 "nbformat": 4,
 "nbformat_minor": 5
}
